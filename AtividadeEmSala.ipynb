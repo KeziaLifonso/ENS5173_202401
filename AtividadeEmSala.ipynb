{
 "cells": [
  {
   "cell_type": "code",
   "execution_count": null,
   "id": "d538cd72-a201-481f-af8c-6cb26d3ae806",
   "metadata": {},
   "outputs": [],
   "source": [
    "#Atividade 01 - Parte 01 - Inventario de Emissoes utilizando Python\n",
    "\n",
    "Aluna: Kezia Bernarda"
   ]
  },
  {
   "cell_type": "code",
   "execution_count": null,
   "id": "46de26f6-06ea-4098-9a05-d9b198eab66c",
   "metadata": {},
   "outputs": [],
   "source": [
    "#Abrir planiolha de fatores de emissoes compilada.\n",
    "Utilizei o capitulo XXX da AP-42, pois meu emprendimento é uma Cimenteira (coloca o link)"
   ]
  },
  {
   "cell_type": "code",
   "execution_count": null,
   "id": "3471b0bf-3d87-421f-80c2-82672b412dee",
   "metadata": {},
   "outputs": [],
   "source": [
    "#Utilizando Pandas para abrir a planilha\n",
    "import pandas as pd\n",
    "import os\n",
    "\n",
    "#Coletando o caminho da pasta que estou\n",
    "cwd = os.getcwd()\n",
    "\n",
    "#Pasta dos fatores de emissao\n",
    "path = cwd+'\\\\tabelas\\\\FE'\n",
    "print(path)\n",
    "\n",
    "#Indicando o nome do arquivo\n",
    "chapterNumber = 11\n",
    "subChapter = 7\n",
    "\n",
    "file = 'chp_'+str(chapterNumber)+'_'str(subChapter)+'.csv'\n",
    "print(file)\n",
    "\n",
    "#Abrindo arquivo utilizando o Pandas\n",
    "fe = pd.read_csv(path+\\\\+file)"
   ]
  }
 ],
 "metadata": {
  "kernelspec": {
   "display_name": "Python 3 (ipykernel)",
   "language": "python",
   "name": "python3"
  },
  "language_info": {
   "codemirror_mode": {
    "name": "ipython",
    "version": 3
   },
   "file_extension": ".py",
   "mimetype": "text/x-python",
   "name": "python",
   "nbconvert_exporter": "python",
   "pygments_lexer": "ipython3",
   "version": "3.11.8"
  }
 },
 "nbformat": 4,
 "nbformat_minor": 5
}
