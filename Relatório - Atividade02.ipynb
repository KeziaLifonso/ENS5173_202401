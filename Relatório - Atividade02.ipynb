{
 "cells": [
  {
   "cell_type": "markdown",
   "id": "f758a385-c828-4f40-94a3-049ed546237d",
   "metadata": {},
   "source": [
    "## Relatório da Análise Meteorológica\n",
    "Autores: José Henrique Hess e Kezia Bernarda de Oliveira\n",
    "\n",
    "#### Parte 1: Meteorologia da superfície\n",
    "Para avaliar a temperatura, pressão, umidade relativa e cobertura de nuvens ao longo do ano de 2023, foi desenvolvido gráficos de série temporal e boxplots para identificar tendências e variações.\n",
    "Para a temperatura média mensal, observou-se variações significativas ao longo do ano, com picos nos meses de verão e quedas nos meses de inverno. O gráfico de médias mensais mostrou uma linha sólida representando a média e uma sombra indicando as variações mínimas e máximas, permitindo uma visualização clara das flutuações sazonais.\n",
    "A pressão teve um comportamento semelhante a de temperatura, com maiores valores no verão e menores valores no inverno, o que faz sentido, tendo em vista que temperatura e pressão são valores relacionados.\n",
    "Já a umidade relativa, percebe-se um comportamento com baixa variação temporal, tendo em vista que o local de estudo é em região de clima subtropical úmido, onde não há estações secas definida, em que a região apresenta alto valor de umidade relativa pelo ano.\n",
    "\n",
    "Por fim, ao verificar a cobertura de nuvens, percebe-se que outubro é o mês com maior quantidade de nuvens, enquanto janeiro, fevereiro e março são os com menos, o que pode ser relacionado com a pressão, que quando ela é maior, o céu tende a ser mais claro e aberto, e enquanto ela for menor, o céu tende a ficar com menor cobertura de nuvens. Além disso, o mês de outubro do ano de 2023 foi um mês com muitas chuvas, o que explica o maior valor médio de cobertura de nuvens. Além disso, no verão a chuva tende a ter uma intensidade maior e menor duração, com o oposto para o inverno, o que também pode apontar a razão dos primeiros meses do ano com menor cobertura de nuvens, enquanto os outros meses estão com valores superiores.\n",
    "Ao avaliar a rosa dos ventos, consegue-se perceber a predominância do vento Norte e Nor-noroeste, ao mesmo tempo que apresenta vento Sul com menor frequência, entretanto maior intensidade em relação às outras direções.\n",
    "\n",
    "#### Parte 2: Perfil vertical da atmosfera\n",
    "Ao gerar o perfil vertical de temperatura, junto do perfil de instabilidade/estabilidade para 5 dias aleatórios no verão e 5 dias aleatórios no inverno, percebeu-se que na maior parte do tempo, independentemente, da estação e do horário, houve predominância de zona neutra de gradiente de temperatura, entre 0°C e -1°C, junto de zona estável, maior ou igual a 0°C, sendo poucos dias e poucas vezes que a atmosfera apresento uma zona instável, onde o gradiente de temperatura esteve abaixo de -1°C. Também foi possível observar a alta variação da altura da camada limite entre os dias da mesma estação do ano.\n",
    "\n",
    "Neste sentido, ao avaliar a altura da camada limite, percebe-se que a do verão é superior a altura da camada limite no inverno, o que faz sentido, já que por ser uma estação com maior irradiação solar, tem maior turbulência devido ao calor. Além disso, com as amostras apresentadas, não foi possível concluir a relação da altura das camadas limites de madrugada e meio dia. Neste sentido, no verão, foi observado 2 dias com altura da camada limite na madrugada superior a do meio dia, 2 dias com valores próximos e 1 dia com camada limite superior no meio dia. Já no inverno, 1 camada limite na madrugada estava superior a do meio dia, 1 do meio dia superior a de madrugada, e 3 próximas entre si.\n",
    "\n",
    "#### Parte 3: Caracterização da superfície\t\n",
    "Percebe-se que a empresa WEG está em uma área predominantemente urbana, o que explica a alta velocidade de atrito na região, já que a rugosidade do local é baixa, o que ocasiona em um maior atrito e então aumento da turbulência mecânica e consequentemente maior dispersão. Além disso, ao avaliar o albedo, que é baixo, percebe-se que há um maior aquecimento da superfície, refletindo em turbulência convectiva, que desempenha um forte papel na dispersão de poluentes na região. Por fim, ao avaliar a razão de Bowen, percebe-se que na primavera o valor é abaixo de 1, próxima a 0.6, no verão próximo a 1, e no outono e inverno próximas a 1.2, o que indica que na primavera há uma prevalência da turbulência mecânica, enquanto no outono e verão há um predomínio da turbulência convectiva, já ao verão, os dois tipos de turbulência se aproximam em influência.\n",
    "Além disso, ao avaliar o comprimento de Monin-Obukhov, repara-se a variação horária que há de condições instáveis, quando o comprimento é negativo, para estáveis, quando o comprimento é positivo, o que indica que esse é um parâmetro que tem variação significativa na escala temporal diária e horária.\n",
    "\n",
    "\n",
    "\n",
    "\n",
    "\n",
    "\n",
    "\n",
    "\n"
   ]
  },
  {
   "cell_type": "code",
   "execution_count": null,
   "id": "c72337a1-e253-4d25-888c-fa2c67743cd4",
   "metadata": {},
   "outputs": [],
   "source": []
  }
 ],
 "metadata": {
  "kernelspec": {
   "display_name": "Python 3 (ipykernel)",
   "language": "python",
   "name": "python3"
  },
  "language_info": {
   "codemirror_mode": {
    "name": "ipython",
    "version": 3
   },
   "file_extension": ".py",
   "mimetype": "text/x-python",
   "name": "python",
   "nbconvert_exporter": "python",
   "pygments_lexer": "ipython3",
   "version": "3.11.8"
  }
 },
 "nbformat": 4,
 "nbformat_minor": 5
}
