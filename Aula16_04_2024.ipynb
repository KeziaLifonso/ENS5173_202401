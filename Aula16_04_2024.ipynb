{
 "cells": [
  {
   "cell_type": "code",
   "execution_count": 2,
   "id": "51bdeca5-ec11-44e9-82be-efe21a3e74d2",
   "metadata": {},
   "outputs": [
    {
     "name": "stdout",
     "output_type": "stream",
     "text": [
      "Guilherme gente fina\n"
     ]
    }
   ],
   "source": [
    "#Tipos de variaveis\n",
    "a = 'Guilherme '\n",
    "b = a+ 'gente fina'\n",
    "print(b)"
   ]
  },
  {
   "cell_type": "code",
   "execution_count": 4,
   "id": "d5c5e8c6-3195-4f4c-8a84-ba6cfb71772c",
   "metadata": {},
   "outputs": [
    {
     "name": "stdout",
     "output_type": "stream",
     "text": [
      "11\n",
      "<class 'int'>\n"
     ]
    }
   ],
   "source": [
    "#Tipo de variavel - Inteira\n",
    "c = 1\n",
    "d = c +10\n",
    "print(d)\n",
    "print(type(d))"
   ]
  },
  {
   "cell_type": "code",
   "execution_count": 18,
   "id": "a8bf7929-3837-4ada-959f-255fb291c6b5",
   "metadata": {},
   "outputs": [
    {
     "ename": "SyntaxError",
     "evalue": "invalid syntax. Perhaps you forgot a comma? (3842570685.py, line 9)",
     "output_type": "error",
     "traceback": [
      "\u001b[1;36m  Cell \u001b[1;32mIn[18], line 9\u001b[1;36m\u001b[0m\n\u001b[1;33m    print('Valor de f = '+str(f)+ ' do tipo = ' +str(type(f))\u001b[0m\n\u001b[1;37m          ^\u001b[0m\n\u001b[1;31mSyntaxError\u001b[0m\u001b[1;31m:\u001b[0m invalid syntax. Perhaps you forgot a comma?\n"
     ]
    }
   ],
   "source": [
    "#Tipos de variaveis - floot\n",
    "\n",
    "f = 10.5\n",
    "g = f*2\n",
    "h = f**2\n",
    "print('valor de g = '+str(g) + ' e o valor de h = ' +str(h))\n",
    "print(type(h))\n",
    "f = int(f)\n",
    "print('Valor de f = '+str(f)+ ' do tipo = ' +str(type(f))\n",
    "f = float(f)\n",
    "print('Valor de f = '+str(f)+ 'do tipo = '+ str(type(f))\n"
   ]
  },
  {
   "cell_type": "code",
   "execution_count": 12,
   "id": "9f61d7ab-f55f-47b2-81b9-fdb1cac7ae1f",
   "metadata": {},
   "outputs": [
    {
     "name": "stdout",
     "output_type": "stream",
     "text": [
      "['Guilherme', 'Flavia', 'Lucas']\n",
      "[3, 6, 6]\n",
      "<class 'list'>\n"
     ]
    }
   ],
   "source": [
    "#Exemplo dicionario\n",
    "\n",
    "dicionario = {\n",
    "    'alunos':['Guilherme','Flavia','Lucas'],\n",
    "    'notas':[3,6,6]\n",
    "}\n",
    "\n",
    "print(dicionario['alunos'])\n",
    "print(dicionario['notas'])\n",
    "print(type(dicionario['notas']))\n",
    "      \n",
    "                "
   ]
  },
  {
   "cell_type": "code",
   "execution_count": 14,
   "id": "8903f29b-97eb-4a20-ae2f-fe4fa144d444",
   "metadata": {},
   "outputs": [
    {
     "name": "stdout",
     "output_type": "stream",
     "text": [
      "Guilherme\n",
      "Flavia\n",
      "Lucas\n"
     ]
    }
   ],
   "source": [
    "#Treinando loop\n",
    "for aluno in dicionario['alunos']:\n",
    "        print(aluno)"
   ]
  },
  {
   "cell_type": "code",
   "execution_count": 31,
   "id": "5ab947c6-d26c-40de-8b22-4703ea32c10f",
   "metadata": {},
   "outputs": [
    {
     "name": "stdout",
     "output_type": "stream",
     "text": [
      "0 Guilhermenota = 3\n",
      " \n",
      "1 Flavianota = 6\n",
      " \n",
      "2 Lucasnota = 6\n",
      " \n",
      "0 Guilhermenota = 3\n",
      "1 Flavianota = 6\n",
      "2 Lucasnota = 6\n"
     ]
    }
   ],
   "source": [
    "#Treinando loop (Existem duas maneiras de fazer loop) - (\"Para cada arquivo faca\") (obs: quando der erro de indectacao é o TAB)\n",
    "for ii,aluno in enumerate(dicionario['alunos']):\n",
    "        print(str(ii) + ' ' + aluno + 'nota = '+ str(dicionario['notas'][ii]))\n",
    "        print(' ')\n",
    "for ii in range(0,len(dicionario['alunos'])):\n",
    "    print(str(ii) + ' ' + str(dicionario['alunos'][ii]) + 'nota = '+ str(dicionario['notas'][ii]))\n",
    "    "
   ]
  },
  {
   "cell_type": "code",
   "execution_count": 37,
   "id": "45bbd164-0d56-45e2-b455-945ef053476d",
   "metadata": {},
   "outputs": [
    {
     "name": "stdout",
     "output_type": "stream",
     "text": [
      "0 Guilhermenota = 3\n",
      "1 Flavianota = 6\n",
      "2 Lucasnota = 6\n"
     ]
    }
   ],
   "source": [
    "#Treinando loop (Existem duas maneiras de fazer loop) - (\"Para cada arquivo faca\")\n",
    "for ii,aluno in enumerate(dicionario['alunos']):\n",
    "        if aluno== ' Guilherme':\n",
    "                print(str(ii) + ''+ aluno + ' nota = 10.0')\n",
    "        else:\n",
    "            print(str(ii) + ' '+ aluno + 'nota = '+ str(dicionario['notas'][ii]))"
   ]
  },
  {
   "cell_type": "code",
   "execution_count": 35,
   "id": "435585c7-88da-40d9-9f43-8e08a1331b5d",
   "metadata": {},
   "outputs": [
    {
     "name": "stdout",
     "output_type": "stream",
     "text": [
      "False\n",
      "True\n",
      "False\n",
      "True\n",
      "True\n",
      "True\n",
      "False\n",
      "<class 'bool'>\n"
     ]
    }
   ],
   "source": [
    "# Operacoes logicas\n",
    "a = 1\n",
    "b = 3\n",
    "c = 1\n",
    "print(a==b) #Igual a - operacao logica\n",
    "print(a==c)\n",
    "print(a>b) # maior que\n",
    "print(a<b) # menor que\n",
    "print(a>=c) # maior igual que\n",
    "print(a!=b) # diferente de \n",
    "print(a!=c) # diferente de \n",
    "\n",
    "opTF = a!=c\n",
    "print(type(opTF))\n",
    "\n",
    "opT = True \n",
    "opF = False"
   ]
  },
  {
   "cell_type": "code",
   "execution_count": 39,
   "id": "48354699-148e-492c-8b5b-05e2f301806d",
   "metadata": {},
   "outputs": [
    {
     "name": "stdout",
     "output_type": "stream",
     "text": [
      "0 Guilherme nota = 3\n",
      "1 Flavia nota = 6\n",
      "2 Lucas nota = 6\n"
     ]
    }
   ],
   "source": [
    "#Treinando loop com condicao\n",
    "for ii,aluno in enumerate(dicionario['alunos']):\n",
    "        if (aluno== ' Guilherme') and (dicionario['notas'][ii]<=9):\n",
    "                print(str(ii) + ' '+ aluno + ' nota = 10.0')\n",
    "        else:\n",
    "            print(str(ii) + ' '+ aluno + ' nota = '+ str(dicionario['notas'][ii]))"
   ]
  },
  {
   "cell_type": "code",
   "execution_count": 41,
   "id": "ccebbd15-a24f-4541-af64-2d5aff42d324",
   "metadata": {},
   "outputs": [
    {
     "name": "stdout",
     "output_type": "stream",
     "text": [
      "['Guilherme' 'Flavia' 'Lucas']\n",
      "<class 'numpy.ndarray'>\n",
      "\n",
      "[False False  True]\n"
     ]
    }
   ],
   "source": [
    "#Treinando numpy\n",
    "import numpy as np\n",
    "#Convertendo para numpy\n",
    "mat = np.array(dicionario['alunos'])\n",
    "print(mat)\n",
    "print(type(mat))\n",
    "\n",
    "print('')\n",
    "mat2 = np.array(mat=='Lucas')\n",
    "print(mat2)\n",
    "#Local da mariz com valor verdadeiro\n",
    "print(np.where(mat2))\n",
    "\n",
    "print('')\n",
    "dicionario['notas'][dicionario['alunos']=='Lucas'] = 9.5"
   ]
  },
  {
   "cell_type": "code",
   "execution_count": 44,
   "id": "8e97d9d2-7fa8-4d97-b3b3-e81e1b135b08",
   "metadata": {},
   "outputs": [
    {
     "name": "stdout",
     "output_type": "stream",
     "text": [
      "[0.09758282 0.73612531 0.26341377 0.82512839 0.00306191 0.14768986\n",
      " 0.67645855 0.3547657  0.14112163 0.24674864 0.39970552 0.85309012\n",
      " 0.4217565  0.57217579 0.11857735 0.74465745 0.74803142 0.10221239\n",
      " 0.30212354 0.38145278 0.49346682 0.77901063 0.4074742  0.61448967\n",
      " 0.15001393 0.58506586 0.11298935 0.75979426 0.80320295 0.60914686\n",
      " 0.883325   0.11231006 0.59658958 0.46595492 0.33201444 0.00507586\n",
      " 0.36467696 0.43282502 0.84690115 0.04701756 0.20479211 0.82319055\n",
      " 0.4652789  0.32909503 0.73226584 0.3976418  0.46020282 0.75683972\n",
      " 0.71708188 0.81458804 0.55553597 0.24432444 0.42103131 0.0046539\n",
      " 0.70075916 0.65115289 0.55880564 0.21081392 0.09758563 0.99206533\n",
      " 0.61417023 0.77976845 0.40371752 0.79503569 0.21778743 0.79698793\n",
      " 0.7285563  0.40012283 0.83142296 0.93157809 0.09569441 0.90114192\n",
      " 0.48422773 0.92369056 0.13384006 0.07511035 0.86065868 0.91077757\n",
      " 0.7929021  0.88613397 0.80685749 0.49171267 0.36523855 0.943796\n",
      " 0.01595525 0.48191739 0.49785457 0.17966171 0.05718559 0.07497051\n",
      " 0.75524602 0.01803088 0.0538458  0.04624466 0.12513644 0.47484224\n",
      " 0.96408271 0.05901484 0.96342641 0.68473678]\n",
      "[0.09742802 0.67142152 0.26037808 0.7346349  0.0030619  0.14715354\n",
      " 0.62603535 0.34737066 0.14065369 0.24425237 0.3891471  0.75331624\n",
      " 0.40936366 0.54146257 0.11829967 0.67771997 0.68019705 0.10203451\n",
      " 0.29754823 0.37226922 0.47368194 0.70257572 0.39629159 0.57654163\n",
      " 0.1494519  0.55225429 0.11274909 0.6887723  0.71958392 0.57216798\n",
      " 0.77285314 0.1120741  0.56182445 0.44927612 0.32594812 0.00507584\n",
      " 0.35664752 0.41943698 0.74923161 0.04700024 0.20336362 0.73331876\n",
      " 0.44867207 0.32318676 0.66855637 0.38724522 0.44412983 0.68662733\n",
      " 0.65718801 0.72744298 0.52739875 0.24190089 0.40870191 0.00465388\n",
      " 0.64479814 0.6061038  0.53017389 0.20925587 0.09743082 0.83715742\n",
      " 0.57628059 0.70311479 0.39283971 0.7138886  0.21606985 0.71525431\n",
      " 0.66579313 0.38953148 0.73889094 0.80256238 0.09554842 0.78403623\n",
      " 0.46552501 0.79783201 0.13344084 0.07503975 0.75827215 0.78998073\n",
      " 0.7123929  0.77463262 0.72211685 0.47213634 0.35717212 0.80979111\n",
      " 0.01595457 0.46347904 0.47754165 0.17869674 0.05715442 0.0749003\n",
      " 0.68546782 0.01802991 0.05381978 0.04622818 0.12481011 0.45719814\n",
      " 0.82152625 0.05898059 0.82115187 0.63246915]\n"
     ]
    }
   ],
   "source": [
    "# Matriz numpy\n",
    "\n",
    "vec = np.random.rand(100)\n",
    "print(vec)\n",
    "vec2 = np.sin(vec)\n",
    "print(vec2)\n",
    "\n"
   ]
  },
  {
   "cell_type": "code",
   "execution_count": null,
   "id": "62a909cf-8797-4a1c-9e28-29c85599dcec",
   "metadata": {},
   "outputs": [],
   "source": [
    "#Datetime\n",
    "\n"
   ]
  }
 ],
 "metadata": {
  "kernelspec": {
   "display_name": "Python 3 (ipykernel)",
   "language": "python",
   "name": "python3"
  },
  "language_info": {
   "codemirror_mode": {
    "name": "ipython",
    "version": 3
   },
   "file_extension": ".py",
   "mimetype": "text/x-python",
   "name": "python",
   "nbconvert_exporter": "python",
   "pygments_lexer": "ipython3",
   "version": "3.11.8"
  }
 },
 "nbformat": 4,
 "nbformat_minor": 5
}
