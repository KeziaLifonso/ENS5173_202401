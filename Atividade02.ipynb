{
 "cells": [
  {
   "cell_type": "markdown",
   "id": "95a36e99-c0ac-45b5-895c-25be3734b965",
   "metadata": {},
   "source": [
    "### Caracterizacao meteorologica de area do estudo\n",
    "\n",
    "Nesta atividade caracterizaremos a meteorologia da area de estudo. Avaliaremos os seguintes pontos:\n",
    "\n",
    "1. Meteorologia de Superficie\n",
    "2. Meteorologia upperia ou sondagem/perfil da atmosfera\n",
    "3. Superficie - Albedo, razao de Bowen e Rogosidade"
   ]
  },
  {
   "cell_type": "markdown",
   "id": "50116bf4-1fa3-41e3-8a43-2a02536d381b",
   "metadata": {},
   "source": [
    "#### Meteorologia de superficie\n",
    "Analisaremos os dados de mater(estacao meteorologica em aeroportos). Os dados serao coletados na plataforma https://hoinaski.prof.ufsc.br/\n"
   ]
  },
  {
   "cell_type": "code",
   "execution_count": 4,
   "id": "5c6fde95-52ba-4b9b-a395-edb96c9568ed",
   "metadata": {},
   "outputs": [
    {
     "name": "stdout",
     "output_type": "stream",
     "text": [
      "C:\\Users\\Kezia\\Documents\\GitHub\\ENS7173_202401\n",
      "\\inputs\\meteoSuperficie\n"
     ]
    },
    {
     "ename": "FileNotFoundError",
     "evalue": "[WinError 3] O sistema não pode encontrar o caminho especificado: '\\\\inputs\\\\meteoSuperficie'",
     "output_type": "error",
     "traceback": [
      "\u001b[1;31m---------------------------------------------------------------------------\u001b[0m",
      "\u001b[1;31mFileNotFoundError\u001b[0m                         Traceback (most recent call last)",
      "Cell \u001b[1;32mIn[4], line 13\u001b[0m\n\u001b[0;32m     10\u001b[0m \u001b[38;5;28mprint\u001b[39m(metSuperficiePath)\n\u001b[0;32m     12\u001b[0m \u001b[38;5;66;03m#Listando os arquivos dentro do diretorio\u001b[39;00m\n\u001b[1;32m---> 13\u001b[0m files \u001b[38;5;241m=\u001b[39m \u001b[43mos\u001b[49m\u001b[38;5;241;43m.\u001b[39;49m\u001b[43mlistdir\u001b[49m\u001b[43m(\u001b[49m\u001b[43mmetSuperficiePath\u001b[49m\u001b[43m)\u001b[49m\n\u001b[0;32m     14\u001b[0m \u001b[38;5;28mprint\u001b[39m(files)\n",
      "\u001b[1;31mFileNotFoundError\u001b[0m: [WinError 3] O sistema não pode encontrar o caminho especificado: '\\\\inputs\\\\meteoSuperficie'"
     ]
    }
   ],
   "source": [
    "# Selecionar arquivo para analise\n",
    "import os\n",
    "\n",
    "#Pegando o caminho do diretorio que estou\n",
    "rootPath = os.getcwd()\n",
    "print(rootPath)\n",
    "\n",
    "#Definindo o diretorio com os arquivos metar\n",
    "metSuperficiePath = rootPath ='\\\\inputs\\\\meteoSuperficie'\n",
    "print(metSuperficiePath)\n",
    "\n",
    "#Listando os arquivos dentro do diretorio\n",
    "files = os.listdir(metSuperficiePath)\n",
    "print(files)\n"
   ]
  },
  {
   "cell_type": "code",
   "execution_count": 5,
   "id": "cc8e3500-a4cb-4fbd-a36a-1bc19bf0b73a",
   "metadata": {},
   "outputs": [
    {
     "ename": "IndentationError",
     "evalue": "unexpected indent (2312783004.py, line 11)",
     "output_type": "error",
     "traceback": [
      "\u001b[1;36m  Cell \u001b[1;32mIn[5], line 11\u001b[1;36m\u001b[0m\n\u001b[1;33m    print(metSuperficie)\u001b[0m\n\u001b[1;37m    ^\u001b[0m\n\u001b[1;31mIndentationError\u001b[0m\u001b[1;31m:\u001b[0m unexpected indent\n"
     ]
    }
   ],
   "source": [
    "#Abrindo os arquivos metar\n",
    "import pandas as pd\n",
    "\n",
    "#Abrindo cada arquivo dentro da pasta e acumukando em uma lista chamada de metSuperficie\n",
    "metSuperficie=[]\n",
    "for file in files:\n",
    "    metSuperficie.append(pd.read_csv(metSuperficiePath+'\\\\'+file))\n",
    "\n",
    "#Convertendo metSuperficie para DataFrame\n",
    "metSuperficie = pd.concat(metSuperficie)\n",
    "    print(metSuperficie)\n",
    "    print(type(metSuperficie))"
   ]
  },
  {
   "cell_type": "code",
   "execution_count": null,
   "id": "3e118e33-6447-4607-aa13-69c61fe669e1",
   "metadata": {},
   "outputs": [],
   "source": []
  },
  {
   "cell_type": "code",
   "execution_count": null,
   "id": "75e97630-d3b3-467a-b980-201eab62d901",
   "metadata": {},
   "outputs": [],
   "source": [
    "#Criar uma coluna com Datetime dos dados\n",
    "\n",
    "metSuperficie['datetime'] = pd.to_datetime(metSuperficie[['year', 'month', 'day', 'hour']])\n",
    "print(metSuperficie['datetime']\n",
    "\n",
    "#Definendo a coluna de datetime como indice da matriz\n",
    "metSuperficie.set_index(metSuperficie['datetime'])"
   ]
  },
  {
   "cell_type": "code",
   "execution_count": null,
   "id": "f39d30ba-e406-4e7a-bdc9-9edc39fb9883",
   "metadata": {},
   "outputs": [],
   "source": [
    "#Analisando os dados atraves de figuras\n",
    "import matplotlib.pyplot as plt\n",
    "\n",
    "fig,ax = plt.subplots(4)\n",
    "ax[0].plot(metSuperficie['datetime'], metSuperficie['temp'])\n",
    "\n"
   ]
  }
 ],
 "metadata": {
  "kernelspec": {
   "display_name": "Python 3 (ipykernel)",
   "language": "python",
   "name": "python3"
  },
  "language_info": {
   "codemirror_mode": {
    "name": "ipython",
    "version": 3
   },
   "file_extension": ".py",
   "mimetype": "text/x-python",
   "name": "python",
   "nbconvert_exporter": "python",
   "pygments_lexer": "ipython3",
   "version": "3.11.8"
  }
 },
 "nbformat": 4,
 "nbformat_minor": 5
}
